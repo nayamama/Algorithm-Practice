{
 "cells": [
  {
   "cell_type": "code",
   "execution_count": null,
   "metadata": {
    "collapsed": true
   },
   "outputs": [],
   "source": [
    "\"\"\"\n",
    "\"3\" -> \"c\"                                                          num_ways(\"3\") = 1\n",
    "\"\"  -> \"\"                                                           num_ways(\"\") = 1\n",
    "\"12345\" -> (\"a\" + decode(\"2345\")) or (\"l\" + decode(\"345\"))          num_ways(\"12345\") = num_ways(\"2345\") + num_ways(\"345\")\n",
    "\"27345\" -> \"b\" + decode(\"7345\")                                     num_Ways(\"27345\") = num_ways(\"7345\")\n",
    "\"011\" -> None                                                       num_ways(\"011\") = 0\n",
    "\"\"\""
   ]
  },
  {
   "cell_type": "code",
   "execution_count": 1,
   "metadata": {
    "collapsed": true
   },
   "outputs": [],
   "source": [
    "def helper(data, k, memo):\n",
    "    \"\"\" return the number of ways we can decode the last k letters of string data \"\"\"\n",
    "    if k == 0:\n",
    "        return 1\n",
    "    s = len(data) - k\n",
    "    if data[s] == \"0\":\n",
    "        return 0\n",
    "    if memo[k]:\n",
    "        return memo[k]\n",
    "    \n",
    "    tmp = helper(data, k - 1, memo)\n",
    "    if k >= 2 and int(data[s: s+2]) <= 26:\n",
    "        tmp += helper(data, k - 2, memo)\n",
    "    memo[k] = tmp\n",
    "    return tmp"
   ]
  },
  {
   "cell_type": "code",
   "execution_count": 2,
   "metadata": {
    "collapsed": true
   },
   "outputs": [],
   "source": [
    "def num_ways_dp(data):\n",
    "    \"\"\" complexity: O(n) \"\"\"\n",
    "    memo = [None] * (len(data) + 1)\n",
    "    res = helper(data, len(data), memo)\n",
    "    return res"
   ]
  },
  {
   "cell_type": "code",
   "execution_count": 3,
   "metadata": {},
   "outputs": [
    {
     "data": {
      "text/plain": [
       "1"
      ]
     },
     "execution_count": 3,
     "metadata": {},
     "output_type": "execute_result"
    }
   ],
   "source": [
    "num_ways_dp(\"27345\")"
   ]
  },
  {
   "cell_type": "code",
   "execution_count": 4,
   "metadata": {},
   "outputs": [
    {
     "data": {
      "text/plain": [
       "3"
      ]
     },
     "execution_count": 4,
     "metadata": {},
     "output_type": "execute_result"
    }
   ],
   "source": [
    "num_ways_dp(\"12345\")"
   ]
  },
  {
   "cell_type": "code",
   "execution_count": 5,
   "metadata": {},
   "outputs": [
    {
     "data": {
      "text/plain": [
       "0"
      ]
     },
     "execution_count": 5,
     "metadata": {},
     "output_type": "execute_result"
    }
   ],
   "source": [
    "num_ways_dp(\"011\")"
   ]
  },
  {
   "cell_type": "code",
   "execution_count": 6,
   "metadata": {},
   "outputs": [
    {
     "data": {
      "text/plain": [
       "1"
      ]
     },
     "execution_count": 6,
     "metadata": {},
     "output_type": "execute_result"
    }
   ],
   "source": [
    "num_ways_dp(\"\")"
   ]
  },
  {
   "cell_type": "code",
   "execution_count": null,
   "metadata": {
    "collapsed": true
   },
   "outputs": [],
   "source": []
  }
 ],
 "metadata": {
  "kernelspec": {
   "display_name": "Python 2",
   "language": "python",
   "name": "python2"
  },
  "language_info": {
   "codemirror_mode": {
    "name": "ipython",
    "version": 2
   },
   "file_extension": ".py",
   "mimetype": "text/x-python",
   "name": "python",
   "nbconvert_exporter": "python",
   "pygments_lexer": "ipython2",
   "version": "2.7.11"
  }
 },
 "nbformat": 4,
 "nbformat_minor": 2
}
