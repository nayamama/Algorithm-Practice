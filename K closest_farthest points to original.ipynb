{
 "cells": [
  {
   "cell_type": "code",
   "execution_count": 1,
   "metadata": {
    "collapsed": true
   },
   "outputs": [],
   "source": [
    "points = [(-2, -4), (0, -2), (-1, 0), (3, -5), (-2, -3), (3, 2), (1, 0)]"
   ]
  },
  {
   "cell_type": "code",
   "execution_count": 2,
   "metadata": {
    "collapsed": true
   },
   "outputs": [],
   "source": [
    "from heapq import *"
   ]
  },
  {
   "cell_type": "code",
   "execution_count": 3,
   "metadata": {
    "collapsed": true
   },
   "outputs": [],
   "source": [
    "def dist_original(point):\n",
    "    return (point[0] - 0)**2 + (point[1] - 0)**2"
   ]
  },
  {
   "cell_type": "code",
   "execution_count": 4,
   "metadata": {},
   "outputs": [
    {
     "data": {
      "text/plain": [
       "1"
      ]
     },
     "execution_count": 4,
     "metadata": {},
     "output_type": "execute_result"
    }
   ],
   "source": [
    "dist_original((-1, 0))"
   ]
  },
  {
   "cell_type": "code",
   "execution_count": 5,
   "metadata": {
    "collapsed": true
   },
   "outputs": [],
   "source": [
    "def closest(points, k):\n",
    "    \"\"\"\n",
    "    find the k closest points to origin\n",
    "    \"\"\"\n",
    "    points_list = [(-dist_original(point), point) for point in points]\n",
    "    h = []\n",
    "    res = []\n",
    "    for i in range(k):\n",
    "        heappush(h, points_list[i])\n",
    "    for i in range(k, len(points)):\n",
    "        if points_list[i][0] > h[0][0]:\n",
    "            heappushpop(h, points_list[i])\n",
    "    for element in h:\n",
    "        res.append(element[1])\n",
    "    return res"
   ]
  },
  {
   "cell_type": "code",
   "execution_count": 6,
   "metadata": {},
   "outputs": [
    {
     "data": {
      "text/plain": [
       "[(-2, -3), (3, 2), (-1, 0), (0, -2), (1, 0)]"
      ]
     },
     "execution_count": 6,
     "metadata": {},
     "output_type": "execute_result"
    }
   ],
   "source": [
    "closest(points, 5)"
   ]
  },
  {
   "cell_type": "code",
   "execution_count": 7,
   "metadata": {
    "collapsed": true
   },
   "outputs": [],
   "source": [
    "def farthest(points, k):\n",
    "    \"\"\"\n",
    "    find the k farthest points to origin \n",
    "    \"\"\"\n",
    "    points_list = [(dist_original(point), point) for point in points]\n",
    "    h = []\n",
    "    res = []\n",
    "    for i in range(k):\n",
    "        heappush(h, points_list[i])\n",
    "    for i in range(k, len(points)):\n",
    "        if points_list[i][0] > h[0][0]:\n",
    "            heappushpop(h, points_list[i])\n",
    "    for element in h:\n",
    "        res.append(element[1])\n",
    "    return res"
   ]
  },
  {
   "cell_type": "code",
   "execution_count": 8,
   "metadata": {},
   "outputs": [
    {
     "data": {
      "text/plain": [
       "[(-2, -3), (-2, -4), (3, 2), (3, -5)]"
      ]
     },
     "execution_count": 8,
     "metadata": {},
     "output_type": "execute_result"
    }
   ],
   "source": [
    "farthest(points, 4)"
   ]
  },
  {
   "cell_type": "code",
   "execution_count": null,
   "metadata": {
    "collapsed": true
   },
   "outputs": [],
   "source": []
  }
 ],
 "metadata": {
  "kernelspec": {
   "display_name": "Python 2",
   "language": "python",
   "name": "python2"
  },
  "language_info": {
   "codemirror_mode": {
    "name": "ipython",
    "version": 2
   },
   "file_extension": ".py",
   "mimetype": "text/x-python",
   "name": "python",
   "nbconvert_exporter": "python",
   "pygments_lexer": "ipython2",
   "version": "2.7.11"
  }
 },
 "nbformat": 4,
 "nbformat_minor": 2
}
