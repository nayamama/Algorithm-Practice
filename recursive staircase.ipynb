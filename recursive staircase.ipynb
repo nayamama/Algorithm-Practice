{
 "cells": [
  {
   "cell_type": "code",
   "execution_count": null,
   "metadata": {},
   "outputs": [],
   "source": [
    "\"\"\"\n",
    "For a staircase, if every time you only can jump 1 or 2 steps, how many possiable ways do you have to reach the top?\n",
    "\n",
    "N = 0    {[0]}\n",
    "N = 1    {[1, 0]}\n",
    "N = 2    {[2, 1, 0], [2, 0]}\n",
    "N = 3    {[3, 2, 1, 0], [3, 2, 0], [3, 1, 0]}\n",
    "N = 4    {[4, 3, 2, 1, 0], [4, 3, 2, 0], [4, 3, 1, 0], [4, 2, 1, 0], [4, 2, 0]}\n",
    "\"\"\""
   ]
  },
  {
   "cell_type": "code",
   "execution_count": 1,
   "metadata": {
    "collapsed": true
   },
   "outputs": [],
   "source": [
    "def num_ways(n):\n",
    "    if n < 2:\n",
    "        return 1\n",
    "    else:\n",
    "        return num_ways(n-1) + num_ways(n-2)"
   ]
  },
  {
   "cell_type": "code",
   "execution_count": 2,
   "metadata": {},
   "outputs": [
    {
     "data": {
      "text/plain": [
       "5"
      ]
     },
     "execution_count": 2,
     "metadata": {},
     "output_type": "execute_result"
    }
   ],
   "source": [
    "num_ways(4)"
   ]
  },
  {
   "cell_type": "code",
   "execution_count": 3,
   "metadata": {
    "collapsed": true
   },
   "outputs": [],
   "source": [
    "def staircase_dp(n):\n",
    "    arr = [1, 1] \n",
    "    \n",
    "    for i in range(2, n+1):\n",
    "        arr.append(arr[i - 1] + arr[i - 2])\n",
    "        \n",
    "    return arr[n]"
   ]
  },
  {
   "cell_type": "code",
   "execution_count": 4,
   "metadata": {},
   "outputs": [
    {
     "data": {
      "text/plain": [
       "5"
      ]
     },
     "execution_count": 4,
     "metadata": {},
     "output_type": "execute_result"
    }
   ],
   "source": [
    "staircase_dp(4)"
   ]
  },
  {
   "cell_type": "code",
   "execution_count": 5,
   "metadata": {
    "collapsed": true
   },
   "outputs": [],
   "source": [
    "\"\"\"\n",
    "You are given n as well as X which is a set of steps you can take as step, X = {1, 3, 5}\n",
    "\"\"\"\n",
    "X = [1, 3, 5]"
   ]
  },
  {
   "cell_type": "code",
   "execution_count": 6,
   "metadata": {
    "collapsed": true
   },
   "outputs": [],
   "source": [
    "def num_ways_X(n):\n",
    "    if n == 0:\n",
    "        return 1\n",
    "    total = 0\n",
    "    for i in X:\n",
    "        if n - i >= 0:\n",
    "            total += num_ways_X(n - i)\n",
    "    return total"
   ]
  },
  {
   "cell_type": "code",
   "execution_count": 7,
   "metadata": {},
   "outputs": [
    {
     "data": {
      "text/plain": [
       "19"
      ]
     },
     "execution_count": 7,
     "metadata": {},
     "output_type": "execute_result"
    }
   ],
   "source": [
    "num_ways_X(8)"
   ]
  },
  {
   "cell_type": "code",
   "execution_count": 8,
   "metadata": {
    "collapsed": true
   },
   "outputs": [],
   "source": [
    "def num_ways_dp(n):\n",
    "    arr = [1]\n",
    "    for i in range(1, n + 1):\n",
    "        total = 0\n",
    "        for step in X:\n",
    "            if i - step >= 0:\n",
    "                total += arr[i - step]\n",
    "        arr.append(total)\n",
    "        \n",
    "    return arr[n]"
   ]
  },
  {
   "cell_type": "code",
   "execution_count": 9,
   "metadata": {},
   "outputs": [
    {
     "data": {
      "text/plain": [
       "19"
      ]
     },
     "execution_count": 9,
     "metadata": {},
     "output_type": "execute_result"
    }
   ],
   "source": [
    "num_ways_dp(8)"
   ]
  },
  {
   "cell_type": "code",
   "execution_count": null,
   "metadata": {
    "collapsed": true
   },
   "outputs": [],
   "source": []
  }
 ],
 "metadata": {
  "kernelspec": {
   "display_name": "Python 2",
   "language": "python",
   "name": "python2"
  },
  "language_info": {
   "codemirror_mode": {
    "name": "ipython",
    "version": 2
   },
   "file_extension": ".py",
   "mimetype": "text/x-python",
   "name": "python",
   "nbconvert_exporter": "python",
   "pygments_lexer": "ipython2",
   "version": "2.7.11"
  }
 },
 "nbformat": 4,
 "nbformat_minor": 2
}
