{
 "cells": [
  {
   "cell_type": "code",
   "execution_count": 1,
   "metadata": {
    "collapsed": true
   },
   "outputs": [],
   "source": [
    "# regular case and corner case\n",
    "s1 = [1, 3, 4]\n",
    "s2 = [2, 9, 9]\n",
    "s3 = [9, 9, 9]\n",
    "s4 = [1, 0, 9, 9]"
   ]
  },
  {
   "cell_type": "code",
   "execution_count": 2,
   "metadata": {
    "collapsed": true
   },
   "outputs": [],
   "source": [
    "def add_one(s):\n",
    "    carry = 1\n",
    "    res = [0] * len(s)\n",
    "    \n",
    "    for i in range(len(s))[::-1]:\n",
    "        total = s[i] + carry\n",
    "        if total == 10:\n",
    "            carry = 1\n",
    "        else:\n",
    "            carry = 0\n",
    "        res[i] = total % 10\n",
    "        \n",
    "    if carry == 1:\n",
    "        res = [1] + res\n",
    "    return res    "
   ]
  },
  {
   "cell_type": "code",
   "execution_count": 3,
   "metadata": {},
   "outputs": [
    {
     "name": "stdout",
     "output_type": "stream",
     "text": [
      "[1, 3, 5]\n",
      "[3, 0, 0]\n",
      "[1, 0, 0, 0]\n",
      "[1, 1, 0, 0]\n"
     ]
    }
   ],
   "source": [
    "print add_one(s1)\n",
    "print add_one(s2)\n",
    "print add_one(s3)\n",
    "print add_one(s4)"
   ]
  },
  {
   "cell_type": "code",
   "execution_count": 4,
   "metadata": {
    "collapsed": true
   },
   "outputs": [],
   "source": [
    "def add_num(s, num):\n",
    "    carry = num\n",
    "    res = [0] * len(s)\n",
    "    \n",
    "    for i in range(len(s))[::-1]:\n",
    "        total = s[i] + carry\n",
    "        if total >= 10:\n",
    "            carry = 1\n",
    "        else:\n",
    "            carry = 0\n",
    "        res[i] = total % 10\n",
    "        \n",
    "    if carry == 1:\n",
    "        res = [1] + res\n",
    "        \n",
    "    return res"
   ]
  },
  {
   "cell_type": "code",
   "execution_count": 6,
   "metadata": {},
   "outputs": [
    {
     "data": {
      "text/plain": [
       "[1, 1, 0, 5]"
      ]
     },
     "execution_count": 6,
     "metadata": {},
     "output_type": "execute_result"
    }
   ],
   "source": [
    "add_num(s4, 6)"
   ]
  },
  {
   "cell_type": "code",
   "execution_count": null,
   "metadata": {
    "collapsed": true
   },
   "outputs": [],
   "source": []
  }
 ],
 "metadata": {
  "kernelspec": {
   "display_name": "Python 2",
   "language": "python",
   "name": "python2"
  },
  "language_info": {
   "codemirror_mode": {
    "name": "ipython",
    "version": 2
   },
   "file_extension": ".py",
   "mimetype": "text/x-python",
   "name": "python",
   "nbconvert_exporter": "python",
   "pygments_lexer": "ipython2",
   "version": "2.7.11"
  }
 },
 "nbformat": 4,
 "nbformat_minor": 2
}
